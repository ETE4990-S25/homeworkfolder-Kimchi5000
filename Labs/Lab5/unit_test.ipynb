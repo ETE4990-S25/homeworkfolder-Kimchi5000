{
 "cells": [
  {
   "cell_type": "code",
   "execution_count": 4,
   "metadata": {},
   "outputs": [
    {
     "name": "stderr",
     "output_type": "stream",
     "text": [
      "usage: ipykernel_launcher.py [-h] [-v] [-q] [--locals] [--durations N] [-f]\n",
      "                             [-c] [-b] [-k TESTNAMEPATTERNS]\n",
      "                             [tests ...]\n",
      "ipykernel_launcher.py: error: argument -f/--failfast: ignored explicit argument 'c:\\\\Users\\\\Nkye7\\\\AppData\\\\Roaming\\\\jupyter\\\\runtime\\\\kernel-v333b7b09529db4022668667d640706b9564679bed.json'\n"
     ]
    },
    {
     "ename": "SystemExit",
     "evalue": "2",
     "output_type": "error",
     "traceback": [
      "An exception has occurred, use %tb to see the full traceback.\n",
      "\u001b[1;31mSystemExit\u001b[0m\u001b[1;31m:\u001b[0m 2\n"
     ]
    },
    {
     "name": "stderr",
     "output_type": "stream",
     "text": [
      "c:\\Users\\Nkye7\\AppData\\Local\\Programs\\Python\\Python313\\Lib\\site-packages\\IPython\\core\\interactiveshell.py:3585: UserWarning: To exit: use 'exit', 'quit', or Ctrl-D.\n",
      "  warn(\"To exit: use 'exit', 'quit', or Ctrl-D.\", stacklevel=1)\n"
     ]
    }
   ],
   "source": [
    "class Player:\n",
    "    def __init__(self, name, player_class):\n",
    "        self.name = name\n",
    "        self.player_class = player_class.lower()\n",
    "        self.set_attributes()\n",
    "\n",
    "    def set_attributes(self):\n",
    "        if self.player_class == \"mage\":\n",
    "            self.health = 80\n",
    "            self.mp = 120\n",
    "        elif self.player_class == \"warrior\":\n",
    "            self.health = 120\n",
    "            self.mp = 50\n",
    "        elif self.player_class == \"thief\":\n",
    "            self.health = 90\n",
    "            self.mp = 70\n",
    "        else:\n",
    "            raise ValueError(\"Invalid class. Choose from: mage, warrior, thief.\")\n",
    "\n",
    "    def take_damage(self, amount):\n",
    "        self.health -= amount\n",
    "        if self.health < 0:\n",
    "            self.health = 0\n",
    "        print(f\"{self.name} took {amount} damage. Health: {self.health}\")\n",
    "\n",
    "    def use_mana(self, amount):\n",
    "        if self.mp >= amount:\n",
    "            self.mp -= amount\n",
    "            print(f\"{self.name} used {amount} MP. MP left: {self.mp}\")\n",
    "        else:\n",
    "            print(f\"Not enough MP!\")\n",
    "\n",
    "    def __str__(self):\n",
    "        return f\"{self.name} ({self.player_class.capitalize()}) - Health: {self.health}, MP: {self.mp}\"\n",
    "\n",
    "\n",
    "import unittest\n",
    "\n",
    "\"\"\"test if health reduces properly\"\"\"\n",
    "class TestReductions(unittest.TestCase):\n",
    "\n",
    "    def setUp(self):\n",
    "        \"\"\"setting up character for test\"\"\"\n",
    "        self.mage = Player(\"TestCharacter1\", \"mage\")\n",
    "        self.warrior = Player(\"TestCharacter2\", \"warrior\")\n",
    "\n",
    "    def test_take_damage(self):\n",
    "        \"\"\"Testing health reduction\"\"\"\n",
    "        self.mage.take_damage(75)\n",
    "        self.assertEqual(self.mage.health, 5) #Mage health should equal 5 after reduction\n",
    "        \n",
    "        self.warrior.take_damage(121)\n",
    "        self.assertEqual(self.warrior.health, 0) #Warrior class shouldn't be allowed to go passed 0\n",
    "\n",
    "    def test_use_mana(self):\n",
    "        \"\"\"Testing mana reduction\"\"\"\n",
    "        self.mage.use_mana(10)\n",
    "        self.assertEqual(self.mage.mp, 110) #mage starts with 120 mana points\n",
    "    \n",
    "        self.warrior.use_mana(100)\n",
    "        self.assertEqual(self.warrior.mp, 50) #Unable to use skill if mana is insufficient. Mana points should remain same\n",
    "\n",
    "\n",
    "if __name__ == '__main__':\n",
    "    unittest.main()\n"
   ]
  }
 ],
 "metadata": {
  "kernelspec": {
   "display_name": "Python 3",
   "language": "python",
   "name": "python3"
  },
  "language_info": {
   "codemirror_mode": {
    "name": "ipython",
    "version": 3
   },
   "file_extension": ".py",
   "mimetype": "text/x-python",
   "name": "python",
   "nbconvert_exporter": "python",
   "pygments_lexer": "ipython3",
   "version": "3.13.2"
  }
 },
 "nbformat": 4,
 "nbformat_minor": 2
}
