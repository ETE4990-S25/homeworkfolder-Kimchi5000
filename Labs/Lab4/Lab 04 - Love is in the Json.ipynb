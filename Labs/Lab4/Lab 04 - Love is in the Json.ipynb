{
 "cells": [
  {
   "cell_type": "markdown",
   "metadata": {},
   "source": [
    "# Valentine's Day Lab Assignment\n",
    "Picking a Romantic Movie\n",
    "\n",
    "## Instructions:\n",
    "1. Download a dataset of romantic movies from a public dataset repository (e.g., Kaggle).\n",
    "   - Example dataset: \"Romantic Movies Dataset\" (ensure it's in JSON format).\n",
    "2. Load the dataset from the JSON file.\n",
    "3. Create a function that helps pick a romantic movie based on user preferences.\n",
    "4. Display the selected movie details.\n",
    "5. Verify the JSON file content\n",
    "\n"
   ]
  },
  {
   "cell_type": "code",
   "execution_count": null,
   "metadata": {},
   "outputs": [],
   "source": [
    "# Sample Code:\n",
    "min_rating = float(input(\"Enter the minimum rating (0-10): \"))\n",
    "max_year = int(input(\"Enter the latest release year: \"))\n",
    "\n",
    "selected_movie = pick_movie(data, min_rating, max_year)\n",
    "\n",
    "if isinstance(selected_movie, str):\n",
    "    print(selected_movie)\n",
    "else:\n",
    "    print(f\"Selected Movie: {selected_movie['Title']}\")\n",
    "    print(f\"Year: {selected_movie['Year']}\")\n",
    "    print(f\"Rating: {selected_movie['Rating']}\")\n",
    "    print(f\"Box Office: ${selected_movie['BoxOffice']} million\")"
   ]
  },
  {
   "cell_type": "markdown",
   "metadata": {},
   "source": [
    "# Code to pick Movie"
   ]
  },
  {
   "cell_type": "code",
   "execution_count": null,
   "metadata": {},
   "outputs": [
    {
     "name": "stdout",
     "output_type": "stream",
     "text": [
      "\n",
      "Selected Movie: Chal Mere Bhai\n",
      "Year: 2000\n",
      "Rating: TV-14\n",
      "Genres: Comedies, International Movies, Romantic Movies\n",
      "Director: David Dhawan\n",
      "Country: India\n",
      "Cast: Sanjay Dutt, Salman Khan, Karisma Kapoor, Dalip Tahil, Sushma Seth, Shakti Kapoor, Nagma, Sonali Bendre, Twinkle Khanna, Ravi Baswani\n",
      "Duration: 132 min\n",
      "Date Added: December 31, 2019\n",
      "Description: When a secretary saves her tycoon boss's life, his family hears wedding bells. Problem is, she's already in love – with his younger brother.\n"
     ]
    }
   ],
   "source": [
    "import json\n",
    "import pandas as pd\n",
    "import random\n",
    "\n",
    "# Load JSON file\n",
    "file_path = \"Netflix.json\"\n",
    "with open(file_path, \"r\", encoding=\"utf-8\") as file:\n",
    "    data = json.load(file)\n",
    "\n",
    "# Converts JSON data into a pandas DataFrame\n",
    "data_frame = pd.DataFrame(data)\n",
    "\n",
    "def pick_movie(data, latest_year):\n",
    "    \"\"\"Function to select romantic movie\"\"\"\n",
    "    romantic_movies = data[\n",
    "        (data[\"type\"] == \"Movie\") & \n",
    "        (data[\"listed_in\"].str.contains(\"Romantic\", case=False, na=False)) &\n",
    "        (data[\"release_year\"] <= max_year)\n",
    "    ]\n",
    "    if romantic_movies.empty:\n",
    "        return \"No romantic movies found.\"\n",
    "    \n",
    "    # Find the closest possible release year\n",
    "    closest_year = romantic_movies[\"release_year\"].max()\n",
    "\n",
    "    # Filter movies that were released in the closest possible year\n",
    "    latest_movies = romantic_movies[romantic_movies[\"release_year\"] == closest_year]\n",
    "\n",
    "    # Randomly select one movie from the newest available list\n",
    "    selected_movie = latest_movies.sample(1).iloc[0].to_dict()\n",
    "    \n",
    "    return selected_movie\n",
    "\n",
    "# Function for user input\n",
    "latest_year = int(input(\"Enter the movie release year: \"))\n",
    "\n",
    "# Pick a romantic movie based on user preferences\n",
    "selected_movie = pick_movie(data_frame, max_year)\n",
    "\n",
    "# Display selected movie\n",
    "if isinstance(selected_movie, str):\n",
    "    print(selected_movie)\n",
    "else:\n",
    "    print(f\"\\nSelected Movie: {selected_movie['title']}\")\n",
    "    print(f\"Year: {selected_movie['release_year']}\")\n",
    "    print(f\"Rating: {selected_movie['rating']}\")\n",
    "    print(f\"Genres: {selected_movie['listed_in']}\")\n",
    "    print(f\"Director: {selected_movie.get('director', 'N/A')}\")\n",
    "    print(f\"Country: {selected_movie.get('country', 'N/A')}\")\n",
    "    print(f\"Cast: {selected_movie.get('cast', 'N/A')}\")\n",
    "    print(f\"Duration: {selected_movie['duration']}\")\n",
    "    print(f\"Date Added: {selected_movie.get('date_added', 'N/A')}\")\n",
    "    print(f\"Description: {selected_movie['description']}\")"
   ]
  }
 ],
 "metadata": {
  "kernelspec": {
   "display_name": "Python 3",
   "language": "python",
   "name": "python3"
  },
  "language_info": {
   "codemirror_mode": {
    "name": "ipython",
    "version": 3
   },
   "file_extension": ".py",
   "mimetype": "text/x-python",
   "name": "python",
   "nbconvert_exporter": "python",
   "pygments_lexer": "ipython3",
   "version": "3.13.2"
  }
 },
 "nbformat": 4,
 "nbformat_minor": 2
}
